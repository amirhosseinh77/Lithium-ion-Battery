{
 "cells": [
  {
   "cell_type": "code",
   "execution_count": 2,
   "id": "2a9f2dd2",
   "metadata": {},
   "outputs": [],
   "source": [
    "import cv2\n",
    "import numpy as np\n",
    "import matplotlib.pyplot as plt"
   ]
  },
  {
   "cell_type": "code",
   "execution_count": null,
   "id": "82cebe37",
   "metadata": {},
   "outputs": [],
   "source": [
    "'''\n",
    "state estimation\n",
    "x(k+1) = sqrt(5+x(k)) + w(k)\n",
    "y(k) = x(k)^3 + v(k)\n",
    "'''\n",
    "\n",
    "SigmaW = 1 # Process noise covariance\n",
    "SigmaV = 2 # Sensor noise covariance\n",
    "maxIter = 40\n",
    "\n",
    "xtrue = 2 + np.random.rand(1)   # Initialize true system initial state\n",
    "xhat = 2                        # Initialize Kalman filter initial estimate\n",
    "SigmaX = 1                      # Initialize Kalman filter covariance\n",
    "u = 0                           # Unknown initial driving input: assume zero\n",
    "\n",
    "# % Reserve storage for variables we might want to plot/evaluate\n",
    "# xstore = zeros(maxIter+1,length(xtrue)); xstore(1,:) = xtrue;\n",
    "# xhatstore = zeros(maxIter,length(xhat));\n",
    "# SigmaXstore = zeros(maxIter,length(xhat)^2);\n",
    "\n",
    "for k in range(maxIter):\n",
    "    pass\n"
   ]
  },
  {
   "cell_type": "code",
   "execution_count": null,
   "id": "8586283e",
   "metadata": {},
   "outputs": [],
   "source": [
    "\n",
    "for k = 1:maxIter,\n",
    "  % EKF Step 0: Compute Ahat, Bhat\n",
    "  % Note: For this example, x(k+1) = sqrt(5+x(k)) + w(k)\n",
    "  Ahat = 0.5/sqrt(5+xhat); Bhat = 1;\n",
    "\n",
    "  % EKF Step 1: State estimate time update\n",
    "  % Note: You need to insert your system's f(...) equation here\n",
    "  xhat = sqrt(5+xhat); \n",
    "\n",
    "  % KF Step 2: Error covariance time update\n",
    "  SigmaX = Ahat*SigmaX*Ahat' + Bhat*SigmaW*Bhat';\n",
    "\n",
    "  % [Implied operation of system in background, with\n",
    "  % input signal u, and output signal z]\n",
    "  w = chol(SigmaW)'*randn(1);\n",
    "  v = chol(SigmaV)'*randn(1);\n",
    "  ztrue = xtrue^3 + v;  % z is based on present x and u\n",
    "  xtrue = sqrt(5+xtrue) + w;  % future x is based on present u\n",
    "\n",
    "  % KF Step 3: Estimate system output\n",
    "  % Note: You need to insert your system's h(...) equation here\n",
    "  Chat = 3*xhat^2; Dhat = 1;\n",
    "  zhat = xhat^3;\n",
    "\n",
    "  % KF Step 4: Compute Kalman gain matrix\n",
    "  L = SigmaX*Chat'/(Chat*SigmaX*Chat' + Dhat*SigmaV*Dhat');\n",
    "\n",
    "  % KF Step 5: State estimate measurement update\n",
    "  xhat = xhat + L*(ztrue - zhat);\n",
    "  xhat = max(-5,xhat); % don't get square root of negative xhat!\n",
    "\n",
    "  % KF Step 6: Error covariance measurement update\n",
    "  SigmaX = SigmaX - L*Chat*SigmaX;\n",
    "\n",
    "  % [Store information for evaluation/plotting purposes]\n",
    "  xstore(k+1,:) = xtrue;\n",
    "  xhatstore(k,:) = xhat;\n",
    "  SigmaXstore(k,:) = SigmaX(:);\n",
    "end\n",
    "\n",
    "subplot(1,2,1);\n",
    "plot(0:maxIter-1,xstore(1:maxIter),'k-',0:maxIter-1,xhatstore,'b--', ...\n",
    "  0:maxIter-1,xhatstore+3*sqrt(SigmaXstore),'m-.',...\n",
    "  0:maxIter-1,xhatstore-3*sqrt(SigmaXstore),'m-.'); grid;\n",
    "legend('true','estimate','bounds');\n",
    "title('Extended Kalman filter in action');\n",
    "xlabel('Iteration'); ylabel('State');\n",
    "\n",
    "subplot(1,2,2)\n",
    "estErr = xstore(1:maxIter)-xhatstore; \n",
    "bounds = 3*sqrt(SigmaXstore);\n",
    "plot(0:maxIter-1,estErr,'b-',0:maxIter-1, bounds,'m--',0:maxIter-1,-bounds,'m--');\n",
    "grid; legend('Error','bounds',0);\n",
    "title('EKF Error with bounds');\n",
    "xlabel('Iteration'); ylabel('Estimation Error');"
   ]
  },
  {
   "cell_type": "code",
   "execution_count": null,
   "id": "c7837c88",
   "metadata": {},
   "outputs": [],
   "source": [
    "% Compute rms error\n",
    "sqrt(mean(estErr.^2))"
   ]
  },
  {
   "cell_type": "code",
   "execution_count": null,
   "id": "1a08f628",
   "metadata": {},
   "outputs": [],
   "source": [
    "% Compute fraction of estimates outside of 3-sigma bounds\n",
    "length(find(abs(estErr)>bounds))/maxIter"
   ]
  },
  {
   "cell_type": "code",
   "execution_count": null,
   "id": "19387fc2",
   "metadata": {},
   "outputs": [],
   "source": [
    "min(abs(estErr))"
   ]
  }
 ],
 "metadata": {
  "kernelspec": {
   "display_name": "Python 3.8.5 ('base')",
   "language": "python",
   "name": "python3"
  },
  "language_info": {
   "codemirror_mode": {
    "name": "ipython",
    "version": 3
   },
   "file_extension": ".py",
   "mimetype": "text/x-python",
   "name": "python",
   "nbconvert_exporter": "python",
   "pygments_lexer": "ipython3",
   "version": "3.8.5"
  },
  "vscode": {
   "interpreter": {
    "hash": "3a5e053339d0d19cabd3b14ab4a4c4379548b12299071455c7b1ca152d329943"
   }
  }
 },
 "nbformat": 4,
 "nbformat_minor": 5
}
