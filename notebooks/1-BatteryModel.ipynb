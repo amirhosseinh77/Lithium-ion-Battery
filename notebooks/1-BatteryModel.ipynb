{
 "cells": [
  {
   "cell_type": "code",
   "execution_count": 1,
   "id": "b489789f",
   "metadata": {},
   "outputs": [],
   "source": [
    "import cv2\n",
    "import numpy as np\n",
    "import matplotlib.pyplot as plt\n",
    "from scipy import interpolate\n",
    "from mat4py import loadmat\n",
    "from scipy.linalg import block_diag"
   ]
  },
  {
   "cell_type": "markdown",
   "id": "25b1dc62",
   "metadata": {},
   "source": [
    "## simulate ESM model"
   ]
  },
  {
   "cell_type": "markdown",
   "id": "7f947a43",
   "metadata": {},
   "source": [
    "### parameters"
   ]
  },
  {
   "cell_type": "code",
   "execution_count": 4,
   "id": "dab2c2a3",
   "metadata": {},
   "outputs": [
    {
     "data": {
      "text/plain": [
       "dict_keys(['OCV0', 'OCVrel', 'SOC', 'OCV', 'SOC0', 'SOCrel', 'OCVeta', 'OCVQ', 'name', 'temps', 'etaParam', 'QParam', 'GParam', 'M0Param', 'MParam', 'R0Param', 'RCParam', 'RParam', 'dOCV0', 'dOCVrel'])"
      ]
     },
     "execution_count": 4,
     "metadata": {},
     "output_type": "execute_result"
    }
   ],
   "source": [
    "data = loadmat('models/PANmodel.mat')\n",
    "data['model'].keys()"
   ]
  },
  {
   "cell_type": "code",
   "execution_count": null,
   "id": "9d0b74ca",
   "metadata": {},
   "outputs": [],
   "source": [
    "name = data['model']['name']\n",
    "temps = data['model']['temps']\n",
    "etaParam = data['model']['etaParam'][temps.index(25)]\n",
    "QParam = data['model']['QParam'][temps.index(25)]\n",
    "GParam = data['model']['GParam'][temps.index(25)]\n",
    "M0Param = data['model']['M0Param'][temps.index(25)]\n",
    "MParam = data['model']['MParam'][temps.index(25)]\n",
    "R0Param = data['model']['R0Param'][temps.index(25)]\n",
    "RCParam = np.array(data['model']['RCParam'][temps.index(25)])\n",
    "RParam = np.array(data['model']['RParam'][temps.index(25)])"
   ]
  },
  {
   "cell_type": "code",
   "execution_count": 6,
   "id": "08cc4068",
   "metadata": {},
   "outputs": [],
   "source": [
    "# ???\n",
    "\n",
    "# G = getParamESC('GParam',T,model);\n",
    "# Q = getParamESC('QParam',T,model);\n",
    "# M = getParamESC('MParam',T,model);\n",
    "# M0 = getParamESC('M0Param',T,model);\n",
    "# RParam = getParamESC('RParam',T,model);\n",
    "# R0Param = getParamESC('R0Param',T,model);\n",
    "# etaParam = getParamESC('etaParam',T,model);"
   ]
  },
  {
   "cell_type": "markdown",
   "id": "2c7dcb9d",
   "metadata": {},
   "source": [
    "### dynamic"
   ]
  },
  {
   "cell_type": "code",
   "execution_count": null,
   "id": "45cec2a2",
   "metadata": {},
   "outputs": [],
   "source": [
    "# states\n",
    "etaik = ik; etaik(ik<0) = etaParam*ik(ik<0)\n",
    "\n",
    "% Simulate the dynamic states of the model\n",
    "rck = zeros(length(RCfact),length(etaik)); rck(:,1) = iR0\n",
    "for k = 2:length(ik),\n",
    "    rck(:,k) = diag(RCfact)*rck(:,k-1) + (1-RCfact)*etaik(k-1)\n",
    "end\n",
    "rck = rck'\n",
    "zk = z0-cumsum([0;etaik(1:end-1)])*deltaT/(Q*3600)\n",
    "if any(zk>1.1),\n",
    "    warning('Current may have wrong sign as SOC > 110%')\n",
    "end\n",
    "  \n",
    "% Hysteresis stuff\n",
    "hk=zeros([length(ik) 1]); hk(1) = h0; sik = 0*hk\n",
    "fac=exp(-abs(G*etaik*deltaT/(3600*Q)))\n",
    "for k=2:length(ik),\n",
    "    hk(k)=fac(k-1)*hk(k-1)-(1-fac(k-1))*sign(ik(k-1))\n",
    "    sik(k) = sign(ik(k));\n",
    "    if abs(ik(k))<Q/100, sik(k) = sik(k-1); end\n",
    "end\n",
    "    \n",
    "% Compute output equation\n",
    "OCV = OCVfromSOCtemp(zk,T,model);\n",
    "\n",
    "\n",
    "% Calculate new states for all of the old state vectors in xold.  \n",
    "function xnew = stateEqn(xold,current,xnoise)\n",
    "    current = current + xnoise; % noise adds to current\n",
    "    xnew = 0*xold;\n",
    "    xnew(irInd,:) = diag(RC)*xold(irInd,:) + (1-diag(RC))*current;\n",
    "    Ah = exp(-abs(current*G*deltat/(3600*Q)));  % hysteresis factor\n",
    "    xnew(hkInd,:) = Ah.*xold(hkInd,:) + (Ah-1).*sign(current);\n",
    "    xnew(zkInd,:) = xold(zkInd,:) - current/3600/Q;\n",
    "    xnew(hkInd,:) = min(1,max(-1,xnew(hkInd,:)));        np.clip(-1.5, -1,1)\n",
    "    xnew(zkInd,:) = min(1.05,max(-0.05,xnew(zkInd,:)));  np.clip(-1.5, -0.05,1.05)\n",
    "end\n",
    "\n",
    "self.sik = 0\n",
    "\n",
    "eta=etaParam if current<0 else 1\n",
    "\n",
    "Ah = np.exp(-abs(eta*current*GParam*dt/(3600*QParam)))  # hysteresis factor\n",
    "Arc = np.diag(np.exp(-dt/abs(RCParam)))\n",
    "Brc = 1-(np.exp(-dt/abs(RCParam)))\n",
    "\n",
    "z_k1 = z_k - (eta*dt/(3600*QParam))*current\n",
    "iR_k1 = Arc@iR_k + Brc*current\n",
    "h_k1 = Ah@h_k + (1-Ah)*np.sign(current)\n",
    "\n",
    "z_k1 = np.clip(z_k1, -0.05, 1.05)\n",
    "h_k1 = np.clip(h_k1, -1, 1)\n",
    "\n",
    "if abs(current)>QParam/100: self.sik = sign(current)\n",
    "\n",
    "\n",
    "# output\n",
    "voltage = OCV + MParam*h_k1 + M0Param*self.sik - RParam*iR_k - R0Param*current\n",
    "\n",
    "function yhat = outputEqn(xhat,current,ynoise,T,model)\n",
    "    yhat = OCVfromSOCtemp(xhat(zkInd,:),T,model) + M*xhat(hkInd,:) + M0*signIk - R*xhat(irInd,:) - R0*current + ynoise(1,:);\n",
    "end"
   ]
  },
  {
   "cell_type": "markdown",
   "id": "ae42cbbb",
   "metadata": {},
   "source": [
    "### OCV ftom SOC"
   ]
  },
  {
   "cell_type": "code",
   "execution_count": 21,
   "id": "858326d0",
   "metadata": {},
   "outputs": [
    {
     "data": {
      "image/png": "[encoded data removed]",
      "text/plain": [
       "<Figure size 432x288 with 1 Axes>"
      ]
     },
     "metadata": {
      "needs_background": "light"
     },
     "output_type": "display_data"
    }
   ],
   "source": [
    "def make_OCVfromSOCtemp(data, T):\n",
    "    SOC = np.array(data['model']['SOC'])\n",
    "    OCV0 = np.array(data['model']['OCV0'])\n",
    "    OCVrel = np.array(data['model']['OCVrel'])\n",
    "    OCV = OCV0 + T*OCVrel\n",
    "    OCVfromSOC = interpolate.interp1d(SOC, OCV, fill_value=\"extrapolate\")\n",
    "    return OCVfromSOC\n",
    "\n",
    "OCVfromSOC = make_OCVfromSOCtemp(data, 25)\n",
    "xnew = np.arange(0,1,0.01)\n",
    "ynew = OCVfromSOC(xnew)\n",
    "\n",
    "plt.plot(data['model']['SOC'],data['model']['OCV0'])\n",
    "plt.plot(xnew,ynew,linestyle='--')\n",
    "plt.grid()\n"
   ]
  },
  {
   "cell_type": "markdown",
   "id": "852f3ef7",
   "metadata": {},
   "source": [
    "### SOC ftom OCV"
   ]
  },
  {
   "cell_type": "code",
   "execution_count": 22,
   "id": "735aa0f8",
   "metadata": {},
   "outputs": [
    {
     "data": {
      "image/png": "[encoded data removed]",
      "text/plain": [
       "<Figure size 432x288 with 1 Axes>"
      ]
     },
     "metadata": {
      "needs_background": "light"
     },
     "output_type": "display_data"
    }
   ],
   "source": [
    "def make_SOCfromOCVtemp(data, T):\n",
    "    OCV = np.array(data['model']['OCV'])\n",
    "    SOC0 = np.array(data['model']['SOC0'])\n",
    "    SOCrel = np.array(data['model']['SOCrel'])\n",
    "    SOC = SOC0 + T*SOCrel\n",
    "    SOCfromOCV = interpolate.interp1d(OCV, SOC, fill_value=\"extrapolate\")\n",
    "    return SOCfromOCV\n",
    "\n",
    "SOCfromOCV = make_SOCfromOCVtemp(data, 25)\n",
    "xnew = np.arange(2.7,4,0.01)\n",
    "ynew = SOCfromOCV(xnew)\n",
    "\n",
    "plt.plot(data['model']['OCV'],data['model']['SOC0'])\n",
    "plt.plot(xnew,ynew,linestyle='--')\n",
    "plt.grid()\n"
   ]
  },
  {
   "cell_type": "markdown",
   "id": "c7921a96",
   "metadata": {},
   "source": [
    "### dOCV ftom SOC"
   ]
  },
  {
   "cell_type": "code",
   "execution_count": null,
   "id": "bb97a4c6",
   "metadata": {},
   "outputs": [],
   "source": [
    "def make_dOCVfromSOCtemp(data, T):\n",
    "    SOC = np.array(data['model']['SOC'])\n",
    "    OCV0 = np.array(data['model']['OCV0'])\n",
    "    OCVrel = np.array(data['model']['OCVrel'])\n",
    "    OCV = OCV0 + T*OCVrel\n",
    "\n",
    "    dZ = SOC[1] - SOC[0]\n",
    "    dUdZ = np.diff(OCV)/dZ\n",
    "    dOCV = (np.append(dUdZ[0],dUdZ) + np.append(dUdZ,dUdZ[-1]))/2\n",
    "    dOCVfromSOC = interpolate.interp1d(SOC, dOCV, fill_value=\"extrapolate\")\n",
    "    return dOCVfromSOC\n",
    "\n",
    "dOCVfromSOC = make_dOCVfromSOCtemp(data, 25)\n",
    "xnew = np.arange(0,1,0.01)\n",
    "ynew = dOCVfromSOC(xnew)\n",
    "\n",
    "plt.plot(xnew,ynew)\n",
    "plt.grid()\n",
    "plt.ylim([0,5])"
   ]
  },
  {
   "cell_type": "markdown",
   "id": "7cf6b804",
   "metadata": {},
   "source": [
    "### LIB class"
   ]
  },
  {
   "cell_type": "code",
   "execution_count": 29,
   "id": "58c0ae91",
   "metadata": {},
   "outputs": [],
   "source": [
    "class LithiumIonBattery():\n",
    "    def __init__(self, model_path, T, dt):\n",
    "        data = loadmat(model_path)\n",
    "        self.name = data['model']['name']\n",
    "        self.temps = data['model']['temps']\n",
    "        self.etaParam = data['model']['etaParam'][self.temps.index(T)]\n",
    "        self.QParam = data['model']['QParam'][self.temps.index(T)]\n",
    "        self.GParam = data['model']['GParam'][self.temps.index(T)]\n",
    "        self.M0Param = data['model']['M0Param'][self.temps.index(T)]\n",
    "        self.MParam = data['model']['MParam'][self.temps.index(T)]\n",
    "        self.R0Param = data['model']['R0Param'][self.temps.index(T)]\n",
    "        self.RCParam = np.array(data['model']['RCParam'][self.temps.index(T)])\n",
    "        self.RParam = np.array(data['model']['RParam'][self.temps.index(T)])\n",
    "\n",
    "        self.OCVfromSOC = make_OCVfromSOCtemp(data, T)\n",
    "\n",
    "        self.sik = 0\n",
    "        self.dt = dt\n",
    "        self.z_k = 1\n",
    "        self.iR_k = np.zeros((1,1))\n",
    "        self.h_k = 0\n",
    "        \n",
    "    def update_state(self, current):\n",
    "        eta=self.etaParam if current<0 else 1\n",
    "        Ah = np.exp(-abs(eta*current*self.GParam*self.dt/(3600*self.QParam)))  # hysteresis factor\n",
    "        Arc = np.diag(np.exp(-self.dt/abs(self.RCParam)))\n",
    "        Brc = 1-(np.exp(-self.dt/abs(self.RCParam)))\n",
    "\n",
    "        z_k1 = self.z_k - (eta*self.dt/(3600*self.QParam))*current\n",
    "        iR_k1 = Arc@self.iR_k + Brc*current\n",
    "        h_k1 = Ah*self.h_k - (1-Ah)*np.sign(current)\n",
    "\n",
    "        z_k1 = np.clip(z_k1, -0.05, 1.05)\n",
    "        h_k1 = np.clip(h_k1, -1, 1)\n",
    "\n",
    "        if abs(current)>self.QParam/100: self.sik = np.sign(current)\n",
    "        voltage = self.OCVfromSOC(self.z_k) + self.MParam*self.h_k + self.M0Param*self.sik - self.RParam*self.iR_k - self.R0Param*current\n",
    "\n",
    "        self.z_k = z_k1\n",
    "        self.iR_k = iR_k1\n",
    "        self.h_k = h_k1\n",
    "\n",
    "        return voltage.item()"
   ]
  },
  {
   "cell_type": "code",
   "execution_count": 30,
   "id": "28e4591e",
   "metadata": {},
   "outputs": [],
   "source": [
    "LIB1 = LithiumIonBattery('PANmodel.mat', 25, 1)"
   ]
  },
  {
   "cell_type": "code",
   "execution_count": 31,
   "id": "e77754ed",
   "metadata": {},
   "outputs": [
    {
     "name": "stdout",
     "output_type": "stream",
     "text": [
      "0.9888352484434476 [[239.2390634]] -0.8387472006219658 2.962826566792851\n"
     ]
    }
   ],
   "source": [
    "v= LIB1.update_state(1000)\n",
    "print(LIB1.z_k, LIB1.iR_k, LIB1.h_k,v)"
   ]
  },
  {
   "cell_type": "code",
   "execution_count": 74,
   "id": "71d6819f",
   "metadata": {},
   "outputs": [
    {
     "data": {
      "image/png": "[encoded data removed]",
      "text/plain": [
       "<Figure size 864x288 with 2 Axes>"
      ]
     },
     "metadata": {
      "needs_background": "light"
     },
     "output_type": "display_data"
    }
   ],
   "source": [
    "Z = []\n",
    "V = []\n",
    "while LIB1.z_k >=0:\n",
    "    v = LIB1.update_state(1)\n",
    "    Z.append(LIB1.z_k)\n",
    "    V.append(v)\n",
    "\n",
    "plt.figure(figsize=(12,4))\n",
    "plt.subplot(1,2,1)\n",
    "plt.plot(np.arange(len(Z)),V)\n",
    "plt.grid()\n",
    "plt.subplot(1,2,2)\n",
    "plt.plot(np.arange(len(Z)),Z)\n",
    "plt.grid()"
   ]
  },
  {
   "cell_type": "code",
   "execution_count": 49,
   "id": "fcb42c8e",
   "metadata": {},
   "outputs": [
    {
     "data": {
      "text/plain": [
       "array([[1.        , 0.        , 0.        ],\n",
       "       [0.        , 0.99817917, 0.        ],\n",
       "       [0.        , 0.        , 0.76076094]])"
      ]
     },
     "execution_count": 49,
     "metadata": {},
     "output_type": "execute_result"
    }
   ],
   "source": [
    "deltat = 1\n",
    "current = 1\n",
    "Ah = np.exp(-abs(etaParam*current*GParam*deltat/(3600*QParam)))  # hysteresis factor\n",
    "Arc = np.diag(np.exp(-deltat/abs(RCParam)))\n",
    "A = block_diag(1,Ah,Arc)\n",
    "A"
   ]
  },
  {
   "cell_type": "code",
   "execution_count": 70,
   "id": "59beba2e",
   "metadata": {},
   "outputs": [
    {
     "data": {
      "text/plain": [
       "array([[-1.11507145e-05,  0.00000000e+00],\n",
       "       [ 2.39239063e-01,  0.00000000e+00],\n",
       "       [ 0.00000000e+00, -1.82082800e-03]])"
      ]
     },
     "execution_count": 70,
     "metadata": {},
     "output_type": "execute_result"
    }
   ],
   "source": [
    "Brc = 1-(np.exp(-deltat/abs(RCParam)))\n",
    "B = np.block([[-(etaParam*deltat/(3600*QParam)), 0],[Brc, np.zeros((len(Brc),1))],[0, Ah-1]])\n",
    "B\n"
   ]
  },
  {
   "cell_type": "code",
   "execution_count": 75,
   "id": "d67d81d4",
   "metadata": {},
   "outputs": [
    {
     "data": {
      "text/plain": [
       "array([[1],\n",
       "       [1]])"
      ]
     },
     "execution_count": 75,
     "metadata": {},
     "output_type": "execute_result"
    }
   ],
   "source": [
    "u = np.array([[current, np.sign(current)]]).T\n",
    "u"
   ]
  },
  {
   "cell_type": "markdown",
   "id": "ac24afa1",
   "metadata": {},
   "source": [
    "# plot SoC"
   ]
  },
  {
   "cell_type": "code",
   "execution_count": 3,
   "id": "9730489c",
   "metadata": {},
   "outputs": [
    {
     "data": {
      "text/plain": [
       "True"
      ]
     },
     "execution_count": 3,
     "metadata": {},
     "output_type": "execute_result"
    },
    {
     "data": {
      "image/png": "[encoded data removed]",
      "text/plain": [
       "<Figure size 432x288 with 1 Axes>"
      ]
     },
     "metadata": {
      "needs_background": "light"
     },
     "output_type": "display_data"
    }
   ],
   "source": [
    "def plot_SOC(SOC):\n",
    "    img = np.ones((300,300,3), dtype='uint8')*255\n",
    "    img = cv2.rectangle(img, (95,45), (205,265), 0, 10) # H: 50-260 / W: 100-200\n",
    "    img = cv2.rectangle(img, (130,30), (170,45), 0, -1)\n",
    "    soc = np.array(range(0,SOC+1))\n",
    "    soc = np.append(0,soc)\n",
    "    green = (soc*255/100).astype(int)\n",
    "    red = 255-green\n",
    "    y = (-210/100*soc + 260).astype(int)\n",
    "    for i in range(1,len(soc)): img[y[i]:y[i-1],100:200] = [0,green[i],red[i]] \n",
    "    cv2.putText(img, f'{SOC:02}%', (130, 162), cv2.FONT_HERSHEY_SIMPLEX, 0.7, 0, 1, cv2.LINE_AA)\n",
    "    return img\n",
    "\n",
    "\n",
    "plt.imshow(plot_SOC(50)[...,::-1])\n",
    "cv2.imwrite('out1.jpg',plot_SOC(50))"
   ]
  }
 ],
 "metadata": {
  "kernelspec": {
   "display_name": "Python 3",
   "language": "python",
   "name": "python3"
  },
  "language_info": {
   "codemirror_mode": {
    "name": "ipython",
    "version": 3
   },
   "file_extension": ".py",
   "mimetype": "text/x-python",
   "name": "python",
   "nbconvert_exporter": "python",
   "pygments_lexer": "ipython3",
   "version": "3.8.5 (default, Sep  3 2020, 21:29:08) [MSC v.1916 64 bit (AMD64)]"
  },
  "vscode": {
   "interpreter": {
    "hash": "3a5e053339d0d19cabd3b14ab4a4c4379548b12299071455c7b1ca152d329943"
   }
  }
 },
 "nbformat": 4,
 "nbformat_minor": 5
}
