{
 "cells": [
  {
   "cell_type": "code",
   "execution_count": 2,
   "id": "16251c68",
   "metadata": {},
   "outputs": [],
   "source": [
    "from elements.batteryModel import LithiumIonBattery\n",
    "\n",
    "import cv2\n",
    "import numpy as np\n",
    "import matplotlib.pyplot as plt\n",
    "from scipy import interpolate\n",
    "from mat4py import loadmat\n",
    "from scipy.linalg import block_diag, cholesky\n",
    "from copy import copy"
   ]
  },
  {
   "cell_type": "code",
   "execution_count": 8,
   "id": "cfe5a252",
   "metadata": {},
   "outputs": [
    {
     "data": {
      "text/plain": [
       "dict_keys(['script1', 'script2', 'script3', 'eta', 'Q'])"
      ]
     },
     "execution_count": 8,
     "metadata": {},
     "output_type": "execute_result"
    }
   ],
   "source": [
    "data = loadmat('./PANdata_P25.mat')\n",
    "data['DYNData'].keys()"
   ]
  },
  {
   "cell_type": "code",
   "execution_count": 12,
   "id": "f9a26ecb",
   "metadata": {},
   "outputs": [],
   "source": [
    "time    = np.array(data['DYNData']['script1']['time'] )  \n",
    "deltat = time[1]-time[0]\n",
    "time    = time-time[0] # start time at 0\n",
    "current = np.array(data['DYNData']['script1']['current']) # discharge > 0; charge < 0.\n",
    "voltage = np.array(data['DYNData']['script1']['voltage'])\n",
    "soc     = np.array(data['DYNData']['script1']['soc'])"
   ]
  },
  {
   "cell_type": "code",
   "execution_count": 14,
   "id": "0e307246",
   "metadata": {},
   "outputs": [
    {
     "data": {
      "text/plain": [
       "array([1.        , 1.        , 1.        , ..., 0.09465054, 0.09465054,\n",
       "       0.09465054])"
      ]
     },
     "execution_count": 14,
     "metadata": {},
     "output_type": "execute_result"
    }
   ],
   "source": [
    "soc"
   ]
  },
  {
   "cell_type": "code",
   "execution_count": 19,
   "id": "fa54bccb",
   "metadata": {},
   "outputs": [],
   "source": [
    "%matplotlib qt"
   ]
  },
  {
   "cell_type": "code",
   "execution_count": 20,
   "id": "ba7f7e21",
   "metadata": {},
   "outputs": [
    {
     "data": {
      "text/plain": [
       "[<matplotlib.lines.Line2D at 0x24f5bd0f940>]"
      ]
     },
     "execution_count": 20,
     "metadata": {},
     "output_type": "execute_result"
    }
   ],
   "source": [
    "plt.plot(np.arange(10), np.sin(np.arange(10)))"
   ]
  },
  {
   "cell_type": "code",
   "execution_count": null,
   "id": "be84791b",
   "metadata": {},
   "outputs": [],
   "source": []
  }
 ],
 "metadata": {
  "kernelspec": {
   "display_name": "Python 3.8.5 ('base')",
   "language": "python",
   "name": "python3"
  },
  "language_info": {
   "codemirror_mode": {
    "name": "ipython",
    "version": 3
   },
   "file_extension": ".py",
   "mimetype": "text/x-python",
   "name": "python",
   "nbconvert_exporter": "python",
   "pygments_lexer": "ipython3",
   "version": "3.8.5"
  },
  "vscode": {
   "interpreter": {
    "hash": "3a5e053339d0d19cabd3b14ab4a4c4379548b12299071455c7b1ca152d329943"
   }
  }
 },
 "nbformat": 4,
 "nbformat_minor": 5
}
