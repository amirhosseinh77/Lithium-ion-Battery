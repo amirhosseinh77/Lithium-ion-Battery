{
 "cells": [
  {
   "cell_type": "code",
   "execution_count": 94,
   "id": "16251c68",
   "metadata": {},
   "outputs": [],
   "source": [
    "from elements.batteryModel import LithiumIonBattery\n",
    "\n",
    "import cv2\n",
    "import numpy as np\n",
    "import matplotlib.pyplot as plt\n",
    "from scipy import interpolate\n",
    "from mat4py import loadmat\n",
    "from scipy.linalg import block_diag, cholesky\n",
    "from copy import copy\n"
   ]
  },
  {
   "cell_type": "code",
   "execution_count": 95,
   "id": "cfe5a252",
   "metadata": {},
   "outputs": [
    {
     "data": {
      "text/plain": [
       "((array([[0.99998884]]), array([[0.23923906]]), array([[-0.00182312]])),\n",
       " array([[4.09849743]]))"
      ]
     },
     "execution_count": 95,
     "metadata": {},
     "output_type": "execute_result"
    }
   ],
   "source": [
    "LIB1 = LithiumIonBattery('models/PANmodel.mat', T=25, dt=1)\n",
    "i = 1\n",
    "newState = LIB1.stateEqn(i)\n",
    "voltage = LIB1.outputEqn(i)\n",
    "# LIB1.updateState(newState)\n",
    "\n",
    "newState, voltage"
   ]
  },
  {
   "cell_type": "code",
   "execution_count": 96,
   "id": "facf9aa2",
   "metadata": {},
   "outputs": [
    {
     "data": {
      "text/plain": [
       "array([[4.09963424]])"
      ]
     },
     "execution_count": 96,
     "metadata": {},
     "output_type": "execute_result"
    }
   ],
   "source": [
    "LIB1.outputEqn(0)"
   ]
  },
  {
   "cell_type": "code",
   "execution_count": 97,
   "id": "6ee76eac",
   "metadata": {},
   "outputs": [],
   "source": [
    "'''\n",
    "# SPKF Step 1: State estimate time update\n",
    "# 1a: Calculate augmented state estimate, including ...\n",
    "xhata = np.array([xhat.item(), 0, 0])  # process and sensor noise mean\n",
    "# 1b: Get desired Cholesky factor\n",
    "Pxa = block_diag(SigmaX,SigmaW,SigmaV)\n",
    "sPxa = cholesky(Pxa, lower=True)    \n",
    "# 1c: Calculate sigma points (strange indexing of xhat to avoid\n",
    "X = xhata.reshape(3,1) + h*np.hstack([np.zeros((Nxa, 1)), sPxa, -sPxa])\n",
    "# 1d: Calculate state equation for every element\n",
    "Xx = np.sqrt(5+X[0,:]) + X[1,:]\n",
    "xhat = Wmx@Xx\n",
    "'''\n",
    "SigmaX = block_diag(1e2,1e-2,1e-3)  # uncertainty of initial state\n",
    "SigmaV = 3e-1  # Uncertainty of voltage sensor, output equation\n",
    "SigmaW = 4e0   # Uncertainty of current sensor, state equation\n",
    "Nx = 3\n",
    "Nw = 1\n",
    "Nv = 1\n",
    "Na = Nx+Nw+Nv\n",
    "\n",
    "Wmx = np.zeros(2*Na+1)\n",
    "h = np.sqrt(3)\n",
    "Wmx[0] = (h**2-Na)/(h**2)\n",
    "Wmx[1:] = 1/(2*h**2) \n",
    "Wcx=Wmx\n",
    "\n",
    "priorI = 10\n",
    "ik=10\n",
    "vk = 4\n",
    "Qbump = 5\n",
    "\n",
    "# Step 1a: State estimate time update\n",
    "#          - Create xhatminus augmented SigmaX points\n",
    "#          - Extract xhatminus state SigmaX points\n",
    "#          - Compute weighted average xhatminus(k)\n",
    "\n",
    "xhat = np.vstack(newState)\n",
    "\n",
    "# Step 1a-1: Create augmented xhat and SigmaX\n",
    "sigmaXa = block_diag(SigmaX,SigmaW,SigmaV)\n",
    "sigmaXa = np.real(cholesky(sigmaXa, lower=True))\n",
    "\n",
    "# sigmaXa=[real(sigmaXa) zeros([Nx Nw+Nv]); zeros([Nw+Nv Nx]) Snoise]\n",
    "# xhata = np.array([xhat.item(), 0, 0])\n",
    "xhata = np.vstack([xhat, np.zeros((Nw+Nv,1))])\n",
    "\n",
    "#   spkfData.Snoise = real(chol(diag([SigmaW; SigmaV]),'lower'));\n",
    "\n",
    "# Step 1a-2: Calculate SigmaX points\n",
    "Xa = xhata.reshape(Na,1) + h*np.hstack([np.zeros((Na, 1)), sigmaXa, -sigmaXa])\n",
    "# Step 1a-3: Time update from last iteration until now\n",
    "#     stateEqn(xold,current,xnoise)\n",
    "Xx = LIB1.stateEqn(priorI, Xa[Nx:Nx+Nw,:], Xa[:Nx,:])\n",
    "Xx = np.vstack(Xx)\n",
    "xhat = np.sum(Wmx*Xx, axis=-1, keepdims=True)\n",
    "\n",
    "\n",
    "# Step 1b: Error covariance time update\n",
    "#          - Compute weighted covariance sigmaminus(k)\n",
    "#            (strange indexing of xhat to avoid \"repmat\" call)\n",
    "\n",
    "SigmaX = np.sum(Wcx*(Xx - xhat)**2, axis=-1)\n",
    "\n",
    "# Step 1c: Output estimate\n",
    "#          - Compute weighted output estimate yhat(k)\n",
    "Y = LIB1.outputEqn(ik, Xa[Nx+Nw:,:], Xx)\n",
    "yhat = np.sum(Wcx*Y, axis=-1)\n",
    "\n",
    "# Step 2a: Estimator gain matrix\n",
    "SigmaXY = (Xx - xhat)@np.diag(Wcx)@(Y - yhat).T\n",
    "SigmaY  = (Y - yhat)@np.diag(Wcx)@(Y - yhat).T\n",
    "L = SigmaXY/SigmaY\n",
    "\n",
    "# Step 2b: State estimate measurement update\n",
    "r = vk - yhat  # residual.  Use to check for sensor errors...\n",
    "if r**2 > 100*SigmaY: L=0\n",
    "xhat = xhat + L*r \n",
    "xhat[0] = np.clip(xhat[0], -0.05, 1.05)\n",
    "xhat[-1] = np.clip(xhat[-1], -1, 1)\n",
    "\n",
    "# Step 2c: Error covariance measurement update\n",
    "SigmaX = SigmaX - L*SigmaY*L.T\n",
    "_,S,V = np.linalg.svd(SigmaX)\n",
    "HH = V*S*V.T\n",
    "SigmaX = (SigmaX + SigmaX.T + HH + HH.T)/4 # Help maintain robustness\n",
    "\n",
    "# Q-bump code\n",
    "if r**2>4*SigmaY: # bad voltage estimate by 2-SigmaX, bump Q \n",
    "    printf('Bumping sigmax\\n')\n",
    "    SigmaX[0,0] = SigmaX[0,0]*Qbump\n"
   ]
  },
  {
   "cell_type": "code",
   "execution_count": 12,
   "id": "8c7059ff",
   "metadata": {},
   "outputs": [
    {
     "ename": "AttributeError",
     "evalue": "'float' object has no attribute 'shape'",
     "output_type": "error",
     "traceback": [
      "\u001b[1;31m---------------------------------------------------------------------------\u001b[0m",
      "\u001b[1;31mAttributeError\u001b[0m                            Traceback (most recent call last)",
      "\u001b[1;32m<ipython-input-12-d3fe9be2ba3b>\u001b[0m in \u001b[0;36m<module>\u001b[1;34m\u001b[0m\n\u001b[1;32m----> 1\u001b[1;33m \u001b[0mSigmaX\u001b[0m\u001b[1;33m.\u001b[0m\u001b[0mshape\u001b[0m\u001b[1;33m[\u001b[0m\u001b[1;36m0\u001b[0m\u001b[1;33m]\u001b[0m\u001b[1;33m,\u001b[0m \u001b[0mSigmaV\u001b[0m\u001b[1;33m.\u001b[0m\u001b[0mshape\u001b[0m\u001b[1;33m,\u001b[0m \u001b[0mSigmaW\u001b[0m\u001b[1;33m.\u001b[0m\u001b[0mshape\u001b[0m\u001b[1;33m\u001b[0m\u001b[1;33m\u001b[0m\u001b[0m\n\u001b[0m",
      "\u001b[1;31mAttributeError\u001b[0m: 'float' object has no attribute 'shape'"
     ]
    }
   ],
   "source": [
    "SigmaX.shape[0], SigmaV.shape, SigmaW.shape"
   ]
  },
  {
   "cell_type": "code",
   "execution_count": 121,
   "id": "1649543c",
   "metadata": {},
   "outputs": [],
   "source": [
    "class SPKF:\n",
    "    def __init__(self, target_model, SigmaX0, SigmaV, SigmaW):\n",
    "        # store model\n",
    "        self.model = copy(target_model)\n",
    "        ir0   = 0                        \n",
    "        hk0   = 0                        \n",
    "        SOC0  = 1 # self.model.OCVfromSOC(self.model.outputEqn(ir0))\n",
    "        \n",
    "        self.xhat  = np.vstack([SOC0,ir0,hk0]) # initial state\n",
    "\n",
    "        # Covariance values\n",
    "        self.SigmaX = SigmaX0\n",
    "        self.SigmaV = SigmaV\n",
    "        self.SigmaW = SigmaW\n",
    "\n",
    "        # SPKF specific parameters\n",
    "        self.Nx = SigmaX0.shape[0]\n",
    "        self.Nw = 1\n",
    "        self.Nv = 1\n",
    "        self.Na = self.Nx+self.Nw+self.Nv\n",
    "\n",
    "        Wmx = np.zeros(2*self.Na+1)\n",
    "        self.h = np.sqrt(3)\n",
    "        Wmx[0] = (self.h**2-self.Na)/(self.h**2)\n",
    "        Wmx[1:] = 1/(2*self.h**2) \n",
    "        Wcx=Wmx\n",
    "        self.Wm = Wmx.reshape(-1,1) # mean\n",
    "        self.Wc = Wcx.reshape(-1,1) # covar\n",
    "        self.Qbump = 5\n",
    "\n",
    "        # previous value of current\n",
    "        self.priorI = 0\n",
    "        \n",
    "    def iter(self, ik, vk):\n",
    "        # Step 1a-1: Create augmented xhat and SigmaX\n",
    "        eigval, _ = np.linalg.eig(self.SigmaX)\n",
    "        # print(eigval)\n",
    "        sigmaXa = block_diag(self.SigmaX, self.SigmaW, self.SigmaV)\n",
    "        sigmaXa = np.real(cholesky(sigmaXa, lower=True))\n",
    "        xhata = np.vstack([self.xhat, np.zeros((self.Nw+self.Nv,1))])\n",
    "\n",
    "        # Step 1a-2: Calculate SigmaX points\n",
    "        Xa = xhata.reshape(self.Na,1) + self.h*np.hstack([np.zeros((self.Na, 1)), sigmaXa, -sigmaXa])\n",
    "\n",
    "        # Step 1a-3: Time update from last iteration until now\n",
    "        Xx = self.model.stateEqn(self.priorI, Xa[self.Nx:self.Nx+self.Nw,:], Xa[:self.Nx,:])\n",
    "        Xx = np.vstack(Xx)\n",
    "        xhat = Xx@self.Wm\n",
    "\n",
    "        # Step 1b: Error covariance time update\n",
    "        #          - Compute weighted covariance sigmaminus(k)\n",
    "        #            (strange indexing of xhat to avoid \"repmat\" call)\n",
    "        SigmaX = (Xx - xhat)@np.diag(self.Wm.ravel())@(Xx - xhat).T\n",
    "\n",
    "        # Step 1c: Output estimate\n",
    "        #          - Compute weighted output estimate yhat(k)\n",
    "        Y = self.model.outputEqn(ik, Xa[self.Nx+self.Nw:,:], Xx)\n",
    "        yhat = Y@self.Wc\n",
    "\n",
    "        # Step 2a: Estimator gain matrix\n",
    "        SigmaXY = (Xx - xhat)@np.diag(self.Wc.ravel())@(Y - yhat).T\n",
    "        SigmaY  = (Y - yhat)@np.diag(self.Wc.ravel())@(Y - yhat).T\n",
    "        L = SigmaXY/SigmaY\n",
    "\n",
    "        # Step 2b: State estimate measurement update\n",
    "        r = vk - yhat  # residual.  Use to check for sensor errors...\n",
    "        if r**2 > 100*SigmaY: L=0\n",
    "        # print(L, r, yhat, vk)\n",
    "        xhat = xhat + L*r \n",
    "        xhat[0] = np.clip(xhat[0], -0.05, 1.05)\n",
    "        xhat[-1] = np.clip(xhat[-1], -1, 1)\n",
    "\n",
    "        # Step 2c: Error covariance measurement update\n",
    "        SigmaX = SigmaX - L*SigmaY*L.T\n",
    "        # eigval, _ = np.linalg.eig(SigmaX)\n",
    "        # while not np.prod(eigval>=0):\n",
    "        #     _,S,V = np.linalg.svd(SigmaX)\n",
    "        #     HH = V@np.diag(S)@V.T\n",
    "        #     SigmaX = (SigmaX + SigmaX.T + HH + HH.T)/4 # Help maintain robustness\n",
    "        #     eigval, _ = np.linalg.eig(SigmaX)\n",
    "        \n",
    "        Y = (SigmaX + SigmaX.T)/2\n",
    "        eigval, eigvec = np.linalg.eig(Y)\n",
    "        eigvalp = np.maximum(eigval,0) + 1e-10\n",
    "        SigmaX = eigvec@np.diag(eigvalp)@eigvec.T\n",
    "\n",
    "        # Q-bump code\n",
    "        if r**2>4*SigmaY: # bad voltage estimate by 2-SigmaX, bump Q \n",
    "            printf('Bumping sigmax\\n')\n",
    "            SigmaX[0,0] = SigmaX[0,0]*self.Qbump\n",
    "        \n",
    "        # Save data for next iteration...\n",
    "        self.priorI = ik\n",
    "        self.SigmaX = SigmaX\n",
    "        self.xhat = xhat\n",
    "        \n",
    "        zk = self.xhat[0]\n",
    "        zkbnd = 3*np.sqrt(SigmaX[0,0])\n",
    "        return zk,zkbnd\n",
    "        \n",
    "SigmaX = block_diag(1e2,1e-2,1e-3)  # uncertainty of initial state\n",
    "SigmaV = 3e-1  # Uncertainty of voltage sensor, output equation\n",
    "SigmaW = 4e0   # Uncertainty of current sensor, state equation\n",
    "LIB1_SPKF = SPKF(LIB1, SigmaX, SigmaV, SigmaW)"
   ]
  },
  {
   "cell_type": "code",
   "execution_count": 122,
   "id": "f98c3661",
   "metadata": {},
   "outputs": [
    {
     "data": {
      "text/plain": [
       "(11, 1)"
      ]
     },
     "execution_count": 122,
     "metadata": {},
     "output_type": "execute_result"
    }
   ],
   "source": [
    "LIB1_SPKF.Wm.shape"
   ]
  },
  {
   "cell_type": "code",
   "execution_count": 123,
   "id": "38f829b8",
   "metadata": {},
   "outputs": [
    {
     "data": {
      "text/plain": [
       "(array([0.96726781]), 0.3865585692149507)"
      ]
     },
     "execution_count": 123,
     "metadata": {},
     "output_type": "execute_result"
    }
   ],
   "source": [
    "LIB1_SPKF.iter(5, 4)"
   ]
  },
  {
   "cell_type": "code",
   "execution_count": null,
   "id": "d3c87860",
   "metadata": {},
   "outputs": [],
   "source": [
    "\n",
    "% Step 1a: State estimate time update\n",
    "%          - Create xhatminus augmented SigmaX points\n",
    "%          - Extract xhatminus state SigmaX points\n",
    "%          - Compute weighted average xhatminus(k)\n",
    "\n",
    "% Step 1a-1: Create augmented SigmaX and xhat\n",
    "[sigmaXa,p] = chol(SigmaX,'lower'); \n",
    "if p>0,\n",
    "fprintf('Cholesky error.  Recovering...\\n');\n",
    "theAbsDiag = abs(diag(SigmaX));\n",
    "sigmaXa = diag(max(SQRT(theAbsDiag),SQRT(spkfData.SigmaW)));\n",
    "end\n",
    "sigmaXa=[real(sigmaXa) zeros([Nx Nw+Nv]); zeros([Nw+Nv Nx]) Snoise];\n",
    "xhata = [xhat; zeros([Nw+Nv 1])];\n",
    "% NOTE: sigmaXa is lower-triangular\n",
    "\n",
    "% Step 1a-2: Calculate SigmaX points (strange indexing of xhata to \n",
    "% avoid \"repmat\" call, which is very inefficient in MATLAB)\n",
    "Xa = xhata(:,ones([1 2*Na+1])) + ...\n",
    "    spkfData.h*[zeros([Na 1]), sigmaXa, -sigmaXa];\n",
    "\n",
    "% Step 1a-3: Time update from last iteration until now\n",
    "%     stateEqn(xold,current,xnoise)\n",
    "Xx = stateEqn(Xa(1:Nx,:),I,Xa(Nx+1:Nx+Nw,:)); \n",
    "xhat = Xx*spkfData.Wm;\n",
    "\n",
    "% Step 1b: Error covariance time update\n",
    "%          - Compute weighted covariance sigmaminus(k)\n",
    "%            (strange indexing of xhat to avoid \"repmat\" call)\n",
    "Xs = Xx - xhat(:,ones([1 2*Na+1]));\n",
    "SigmaX = Xs*diag(Wc)*Xs';\n",
    "\n",
    "% Step 1c: Output estimate\n",
    "%          - Compute weighted output estimate yhat(k)\n",
    "I = ik; yk = vk;\n",
    "Y = outputEqn(Xx,I,Xa(Nx+Nw+1:end,:),Tk,model);\n",
    "yhat = Y*spkfData.Wm;\n",
    "\n",
    "% Step 2a: Estimator gain matrix\n",
    "Ys = Y - yhat(:,ones([1 2*Na+1]));\n",
    "SigmaXY = Xs*diag(Wc)*Ys';\n",
    "SigmaY = Ys*diag(Wc)*Ys';\n",
    "L = SigmaXY/SigmaY; \n",
    "\n",
    "% Step 2b: State estimate measurement update\n",
    "r = yk - yhat; % residual.  Use to check for sensor errors...\n",
    "if r^2 > 100*SigmaY, L(:,1)=0.0; end \n",
    "xhat = xhat + L*r; \n",
    "xhat(zkInd)=min(1.05,max(-0.05,xhat(zkInd)));\n",
    "xhat(hkInd) = min(1,max(-1,xhat(hkInd)));\n",
    "\n",
    "% Step 2c: Error covariance measurement update\n",
    "SigmaX = SigmaX - L*SigmaY*L';\n",
    "[~,S,V] = svd(SigmaX);\n",
    "HH = V*S*V';\n",
    "SigmaX = (SigmaX + SigmaX' + HH + HH')/4; % Help maintain robustness\n",
    "\n",
    "% Q-bump code\n",
    "if r^2>4*SigmaY, % bad voltage estimate by 2-SigmaX, bump Q \n",
    "fprintf('Bumping sigmax\\n');\n",
    "SigmaX(zkInd,zkInd) = SigmaX(zkInd,zkInd)*spkfData.Qbump;\n",
    "end"
   ]
  },
  {
   "cell_type": "markdown",
   "id": "dded3610",
   "metadata": {},
   "source": [
    "# SVD"
   ]
  },
  {
   "cell_type": "code",
   "execution_count": 71,
   "id": "a3e9e5a5",
   "metadata": {},
   "outputs": [
    {
     "data": {
      "text/plain": [
       "array([[0.08988908, 0.23474708, 0.        ],\n",
       "       [0.15640708, 0.23472888, 0.        ],\n",
       "       [0.15638889, 0.23472889, 0.        ]])"
      ]
     },
     "execution_count": 71,
     "metadata": {},
     "output_type": "execute_result"
    }
   ],
   "source": [
    "import numpy as np\n",
    "from scipy.linalg import block_diag\n",
    "SigmaX = np.load('sigmax.npy')\n",
    "SigmaX\n",
    "\n",
    "# SigmaX = block_diag(1e2,1e-2,1e-3)"
   ]
  },
  {
   "cell_type": "code",
   "execution_count": 64,
   "id": "95dfd26b",
   "metadata": {},
   "outputs": [
    {
     "data": {
      "text/plain": [
       "array([ 0.        ,  0.36715221, -0.04253424])"
      ]
     },
     "execution_count": 64,
     "metadata": {},
     "output_type": "execute_result"
    }
   ],
   "source": [
    "eigval, _ = np.linalg.eig(SigmaX)\n",
    "eigval"
   ]
  },
  {
   "cell_type": "code",
   "execution_count": 92,
   "id": "5a1acfc7",
   "metadata": {},
   "outputs": [
    {
     "data": {
      "text/plain": [
       "(array([4.18383173e-01, 4.78772409e-19, 3.01801413e-17]),\n",
       " array([[-0.53975366, -0.05919858,  0.83723915],\n",
       "        [-0.7788889 , -0.34332254, -0.53621971],\n",
       "        [-0.31937136,  0.93735008, -0.10723351]]))"
      ]
     },
     "execution_count": 92,
     "metadata": {},
     "output_type": "execute_result"
    }
   ],
   "source": [
    "Y = (SigmaX + SigmaX.T)/2\n",
    "eigval, eigvec = np.linalg.eig(Y)\n",
    "eigvalp = np.maximum(eigval,0)\n",
    "Yp = eigvec@np.diag(eigvalp)@eigvec.T\n",
    "np.linalg.eig(Yp)"
   ]
  }
 ],
 "metadata": {
  "kernelspec": {
   "display_name": "Python 3.8.5 ('base')",
   "language": "python",
   "name": "python3"
  },
  "language_info": {
   "codemirror_mode": {
    "name": "ipython",
    "version": 3
   },
   "file_extension": ".py",
   "mimetype": "text/x-python",
   "name": "python",
   "nbconvert_exporter": "python",
   "pygments_lexer": "ipython3",
   "version": "3.8.5"
  },
  "vscode": {
   "interpreter": {
    "hash": "3a5e053339d0d19cabd3b14ab4a4c4379548b12299071455c7b1ca152d329943"
   }
  }
 },
 "nbformat": 4,
 "nbformat_minor": 5
}
